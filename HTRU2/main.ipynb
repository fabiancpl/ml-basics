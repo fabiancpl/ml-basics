{
 "cells": [
  {
   "cell_type": "code",
   "execution_count": 1,
   "metadata": {},
   "outputs": [],
   "source": [
    "import itertools\n",
    "import numpy as np\n",
    "\n",
    "import pandas as pd\n",
    "import pandas_profiling\n",
    "\n",
    "import matplotlib.pyplot as plt\n",
    "%matplotlib inline\n",
    "\n",
    "from sklearn.model_selection import train_test_split\n",
    "from sklearn.preprocessing import StandardScaler\n",
    "from sklearn.linear_model import LogisticRegression\n",
    "from sklearn.pipeline import Pipeline\n",
    "from sklearn.metrics import confusion_matrix, precision_score, recall_score"
   ]
  },
  {
   "cell_type": "code",
   "execution_count": 42,
   "metadata": {},
   "outputs": [],
   "source": [
    "class CustomLogisticRegression():\n",
    "        \n",
    "    def __init__( self, learning_rate = 0.005, max_iter = 100 ):\n",
    "        self.learning_rate = learning_rate\n",
    "        self.max_iter = max_iter\n",
    "        self.thresholding = np.vectorize( self.thresholding )\n",
    "    \n",
    "    def thresholding( self, x ):\n",
    "        return 1 if x >= 0.5 else 0\n",
    "    \n",
    "    def fit( self, X, y ):\n",
    "        \n",
    "        #X = X.as_matrix()\n",
    "        y = y.as_matrix().ravel()\n",
    "        \n",
    "        # Number of features + intercept\n",
    "        num_features = X.shape[ 1 ]\n",
    "        # Number of instances\n",
    "        num_instances = X.shape[ 0 ]\n",
    "        \n",
    "        # Coeficients initialization\n",
    "        self.W = np.zeros( num_features )\n",
    "        \n",
    "        # Iterations\n",
    "        for i in range( self.max_iter ):\n",
    "            x_index = np.random.randint( num_instances )\n",
    "            Wxi = np.dot( self.W, X[ x_index ].T )\n",
    "            g = 1 / ( 1 + np.exp( -Wxi ) )\n",
    "            e = y[ x_index ] - g\n",
    "            self.W = self.W + self.learning_rate * e * X[ x_index ]\n",
    "    \n",
    "    def predict( self, X ):\n",
    "        #X = X.as_matrix()\n",
    "        WX = np.dot( self.W, X.T )\n",
    "        g = 1 / ( 1 + np.exp( -WX ) )\n",
    "        return self.thresholding( g.ravel() )"
   ]
  },
  {
   "cell_type": "markdown",
   "metadata": {},
   "source": [
    "# Loading dataset"
   ]
  },
  {
   "cell_type": "code",
   "execution_count": 2,
   "metadata": {},
   "outputs": [],
   "source": [
    "# https://archive.ics.uci.edu/ml/datasets/HTRU2\n",
    "htru_df = pd.read_csv( './data/HTRU_2.csv', names = [ 'Mean of the integrated profile', \n",
    "                                                     'Standard deviation of the integrated profile', \n",
    "                                                     'Excess kurtosis of the integrated profile', \n",
    "                                                     'Skewness of the integrated profile', \n",
    "                                                     'Mean of the DM-SNR curve', \n",
    "                                                     'Standard deviation of the DM-SNR curve', \n",
    "                                                     'Excess kurtosis of the DM-SNR curve', \n",
    "                                                     'Skewness of the DM-SNR curve',\n",
    "                                                    'Class' ] )"
   ]
  },
  {
   "cell_type": "code",
   "execution_count": 3,
   "metadata": {},
   "outputs": [
    {
     "data": {
      "text/plain": [
       "Mean of the integrated profile                  float64\n",
       "Standard deviation of the integrated profile    float64\n",
       "Excess kurtosis of the integrated profile       float64\n",
       "Skewness of the integrated profile              float64\n",
       "Mean of the DM-SNR curve                        float64\n",
       "Standard deviation of the DM-SNR curve          float64\n",
       "Excess kurtosis of the DM-SNR curve             float64\n",
       "Skewness of the DM-SNR curve                    float64\n",
       "Class                                             int64\n",
       "dtype: object"
      ]
     },
     "execution_count": 3,
     "metadata": {},
     "output_type": "execute_result"
    }
   ],
   "source": [
    "htru_df.dtypes"
   ]
  },
  {
   "cell_type": "code",
   "execution_count": 4,
   "metadata": {},
   "outputs": [
    {
     "data": {
      "text/plain": [
       "(17898, 9)"
      ]
     },
     "execution_count": 4,
     "metadata": {},
     "output_type": "execute_result"
    }
   ],
   "source": [
    "htru_df.shape"
   ]
  },
  {
   "cell_type": "code",
   "execution_count": 5,
   "metadata": {},
   "outputs": [
    {
     "data": {
      "text/html": [
       "<div>\n",
       "<style scoped>\n",
       "    .dataframe tbody tr th:only-of-type {\n",
       "        vertical-align: middle;\n",
       "    }\n",
       "\n",
       "    .dataframe tbody tr th {\n",
       "        vertical-align: top;\n",
       "    }\n",
       "\n",
       "    .dataframe thead th {\n",
       "        text-align: right;\n",
       "    }\n",
       "</style>\n",
       "<table border=\"1\" class=\"dataframe\">\n",
       "  <thead>\n",
       "    <tr style=\"text-align: right;\">\n",
       "      <th></th>\n",
       "      <th>Mean of the integrated profile</th>\n",
       "      <th>Standard deviation of the integrated profile</th>\n",
       "      <th>Excess kurtosis of the integrated profile</th>\n",
       "      <th>Skewness of the integrated profile</th>\n",
       "      <th>Mean of the DM-SNR curve</th>\n",
       "      <th>Standard deviation of the DM-SNR curve</th>\n",
       "      <th>Excess kurtosis of the DM-SNR curve</th>\n",
       "      <th>Skewness of the DM-SNR curve</th>\n",
       "      <th>Class</th>\n",
       "    </tr>\n",
       "  </thead>\n",
       "  <tbody>\n",
       "    <tr>\n",
       "      <th>0</th>\n",
       "      <td>140.562500</td>\n",
       "      <td>55.683782</td>\n",
       "      <td>-0.234571</td>\n",
       "      <td>-0.699648</td>\n",
       "      <td>3.199833</td>\n",
       "      <td>19.110426</td>\n",
       "      <td>7.975532</td>\n",
       "      <td>74.242225</td>\n",
       "      <td>0</td>\n",
       "    </tr>\n",
       "    <tr>\n",
       "      <th>1</th>\n",
       "      <td>102.507812</td>\n",
       "      <td>58.882430</td>\n",
       "      <td>0.465318</td>\n",
       "      <td>-0.515088</td>\n",
       "      <td>1.677258</td>\n",
       "      <td>14.860146</td>\n",
       "      <td>10.576487</td>\n",
       "      <td>127.393580</td>\n",
       "      <td>0</td>\n",
       "    </tr>\n",
       "    <tr>\n",
       "      <th>2</th>\n",
       "      <td>103.015625</td>\n",
       "      <td>39.341649</td>\n",
       "      <td>0.323328</td>\n",
       "      <td>1.051164</td>\n",
       "      <td>3.121237</td>\n",
       "      <td>21.744669</td>\n",
       "      <td>7.735822</td>\n",
       "      <td>63.171909</td>\n",
       "      <td>0</td>\n",
       "    </tr>\n",
       "    <tr>\n",
       "      <th>3</th>\n",
       "      <td>136.750000</td>\n",
       "      <td>57.178449</td>\n",
       "      <td>-0.068415</td>\n",
       "      <td>-0.636238</td>\n",
       "      <td>3.642977</td>\n",
       "      <td>20.959280</td>\n",
       "      <td>6.896499</td>\n",
       "      <td>53.593661</td>\n",
       "      <td>0</td>\n",
       "    </tr>\n",
       "    <tr>\n",
       "      <th>4</th>\n",
       "      <td>88.726562</td>\n",
       "      <td>40.672225</td>\n",
       "      <td>0.600866</td>\n",
       "      <td>1.123492</td>\n",
       "      <td>1.178930</td>\n",
       "      <td>11.468720</td>\n",
       "      <td>14.269573</td>\n",
       "      <td>252.567306</td>\n",
       "      <td>0</td>\n",
       "    </tr>\n",
       "  </tbody>\n",
       "</table>\n",
       "</div>"
      ],
      "text/plain": [
       "   Mean of the integrated profile  \\\n",
       "0                      140.562500   \n",
       "1                      102.507812   \n",
       "2                      103.015625   \n",
       "3                      136.750000   \n",
       "4                       88.726562   \n",
       "\n",
       "   Standard deviation of the integrated profile  \\\n",
       "0                                     55.683782   \n",
       "1                                     58.882430   \n",
       "2                                     39.341649   \n",
       "3                                     57.178449   \n",
       "4                                     40.672225   \n",
       "\n",
       "   Excess kurtosis of the integrated profile  \\\n",
       "0                                  -0.234571   \n",
       "1                                   0.465318   \n",
       "2                                   0.323328   \n",
       "3                                  -0.068415   \n",
       "4                                   0.600866   \n",
       "\n",
       "   Skewness of the integrated profile  Mean of the DM-SNR curve  \\\n",
       "0                           -0.699648                  3.199833   \n",
       "1                           -0.515088                  1.677258   \n",
       "2                            1.051164                  3.121237   \n",
       "3                           -0.636238                  3.642977   \n",
       "4                            1.123492                  1.178930   \n",
       "\n",
       "   Standard deviation of the DM-SNR curve  \\\n",
       "0                               19.110426   \n",
       "1                               14.860146   \n",
       "2                               21.744669   \n",
       "3                               20.959280   \n",
       "4                               11.468720   \n",
       "\n",
       "   Excess kurtosis of the DM-SNR curve  Skewness of the DM-SNR curve  Class  \n",
       "0                             7.975532                     74.242225      0  \n",
       "1                            10.576487                    127.393580      0  \n",
       "2                             7.735822                     63.171909      0  \n",
       "3                             6.896499                     53.593661      0  \n",
       "4                            14.269573                    252.567306      0  "
      ]
     },
     "execution_count": 5,
     "metadata": {},
     "output_type": "execute_result"
    }
   ],
   "source": [
    "htru_df.head()"
   ]
  },
  {
   "cell_type": "code",
   "execution_count": 6,
   "metadata": {},
   "outputs": [],
   "source": [
    "#pandas_profiling.ProfileReport( htru_df )"
   ]
  },
  {
   "cell_type": "markdown",
   "metadata": {},
   "source": [
    "# Splitting dataset"
   ]
  },
  {
   "cell_type": "code",
   "execution_count": 12,
   "metadata": {},
   "outputs": [
    {
     "data": {
      "text/plain": [
       "0    16259\n",
       "1     1639\n",
       "Name: Class, dtype: int64"
      ]
     },
     "execution_count": 12,
     "metadata": {},
     "output_type": "execute_result"
    }
   ],
   "source": [
    "htru_df[ 'Class' ].value_counts()"
   ]
  },
  {
   "cell_type": "code",
   "execution_count": 13,
   "metadata": {},
   "outputs": [],
   "source": [
    "# Se realiza particionamiento de las clases para asegurar que se mantenga la misma proporción en ambos datasets\n",
    "htru_pos_df = htru_df.loc[ htru_df[ 'Class' ] == 1 ]\n",
    "htru_neg_df = htru_df.loc[ htru_df[ 'Class' ] == 0 ]"
   ]
  },
  {
   "cell_type": "code",
   "execution_count": 14,
   "metadata": {},
   "outputs": [],
   "source": [
    "# Se parte el dataset de entrenamiento (TOTAL) del de prueba\n",
    "htru_pos_train_df, htru_pos_test_df =  train_test_split( htru_pos_df, test_size = 1000, random_state = 1 )\n",
    "htru_neg_train_df, htru_neg_test_df =  train_test_split( htru_neg_df, test_size = 9000, random_state = 1 )"
   ]
  },
  {
   "cell_type": "code",
   "execution_count": 15,
   "metadata": {},
   "outputs": [
    {
     "data": {
      "text/plain": [
       "(639, 9)"
      ]
     },
     "execution_count": 15,
     "metadata": {},
     "output_type": "execute_result"
    }
   ],
   "source": [
    "htru_pos_train_df.shape"
   ]
  },
  {
   "cell_type": "code",
   "execution_count": 16,
   "metadata": {},
   "outputs": [
    {
     "data": {
      "text/plain": [
       "(7259, 9)"
      ]
     },
     "execution_count": 16,
     "metadata": {},
     "output_type": "execute_result"
    }
   ],
   "source": [
    "htru_neg_train_df.shape"
   ]
  },
  {
   "cell_type": "code",
   "execution_count": 17,
   "metadata": {},
   "outputs": [
    {
     "data": {
      "text/plain": [
       "(1000, 9)"
      ]
     },
     "execution_count": 17,
     "metadata": {},
     "output_type": "execute_result"
    }
   ],
   "source": [
    "htru_pos_test_df.shape"
   ]
  },
  {
   "cell_type": "code",
   "execution_count": 18,
   "metadata": {},
   "outputs": [
    {
     "data": {
      "text/plain": [
       "(9000, 9)"
      ]
     },
     "execution_count": 18,
     "metadata": {},
     "output_type": "execute_result"
    }
   ],
   "source": [
    "htru_neg_test_df.shape"
   ]
  },
  {
   "cell_type": "code",
   "execution_count": 19,
   "metadata": {},
   "outputs": [],
   "source": [
    "htru_test_df = pd.concat( [ htru_pos_test_df, htru_neg_test_df ] )"
   ]
  },
  {
   "cell_type": "code",
   "execution_count": 20,
   "metadata": {},
   "outputs": [
    {
     "data": {
      "text/plain": [
       "(10000, 9)"
      ]
     },
     "execution_count": 20,
     "metadata": {},
     "output_type": "execute_result"
    }
   ],
   "source": [
    "htru_test_df.shape"
   ]
  },
  {
   "cell_type": "markdown",
   "metadata": {},
   "source": [
    "# Model Fitting"
   ]
  },
  {
   "cell_type": "code",
   "execution_count": 21,
   "metadata": {},
   "outputs": [
    {
     "data": {
      "text/plain": [
       "8"
      ]
     },
     "execution_count": 21,
     "metadata": {},
     "output_type": "execute_result"
    }
   ],
   "source": [
    "features = htru_df.columns[ : -1 ].tolist()\n",
    "len( features )"
   ]
  },
  {
   "cell_type": "code",
   "execution_count": 27,
   "metadata": {},
   "outputs": [],
   "source": [
    "def model_iteration( model, train_df, test_df, features, target ):\n",
    "    \n",
    "    # Pipeline creation\n",
    "    model = Pipeline( [\n",
    "        ( 'scaler', StandardScaler() ),\n",
    "        ( 'model', model )\n",
    "    ] )\n",
    "    \n",
    "    # Training the model\n",
    "    model.fit( train_df[ features ], train_df[ target ] )\n",
    "    \n",
    "    # Generating predictions for train and test datasets\n",
    "    train_preds = model.predict( train_df[ features ] )\n",
    "    test_preds = model.predict( test_df[ features ] )\n",
    "    \n",
    "    # Getting precisions for train and test datasets\n",
    "    precision_train = precision_score( train_df[ target ], train_preds )\n",
    "    precision_test = precision_score( test_df[ target ], test_preds )\n",
    "    \n",
    "    # Getting recalls for train and test datasets\n",
    "    recall_train = recall_score( train_df[ target ], train_preds )\n",
    "    recall_test = recall_score( test_df[ target ], test_preds )\n",
    "    \n",
    "    return precision_train, precision_test, recall_train, recall_test"
   ]
  },
  {
   "cell_type": "code",
   "execution_count": 43,
   "metadata": {},
   "outputs": [
    {
     "name": "stdout",
     "output_type": "stream",
     "text": [
      "Training with 100 training samples\n",
      "Training with 500 training samples\n",
      "Training with 1000 training samples\n"
     ]
    },
    {
     "name": "stderr",
     "output_type": "stream",
     "text": [
      "C:\\Users\\fc.pena\\Anaconda3\\lib\\site-packages\\sklearn\\model_selection\\_split.py:2026: FutureWarning: From version 0.21, test_size will always complement train_size unless both are specified.\n",
      "  FutureWarning)\n",
      "C:\\Users\\fc.pena\\Anaconda3\\lib\\site-packages\\ipykernel_launcher.py:14: FutureWarning: Method .as_matrix will be removed in a future version. Use .values instead.\n",
      "  \n",
      "C:\\Users\\fc.pena\\Anaconda3\\lib\\site-packages\\sklearn\\model_selection\\_split.py:2026: FutureWarning: From version 0.21, test_size will always complement train_size unless both are specified.\n",
      "  FutureWarning)\n",
      "C:\\Users\\fc.pena\\Anaconda3\\lib\\site-packages\\ipykernel_launcher.py:14: FutureWarning: Method .as_matrix will be removed in a future version. Use .values instead.\n",
      "  \n",
      "C:\\Users\\fc.pena\\Anaconda3\\lib\\site-packages\\sklearn\\model_selection\\_split.py:2026: FutureWarning: From version 0.21, test_size will always complement train_size unless both are specified.\n",
      "  FutureWarning)\n",
      "C:\\Users\\fc.pena\\Anaconda3\\lib\\site-packages\\ipykernel_launcher.py:14: FutureWarning: Method .as_matrix will be removed in a future version. Use .values instead.\n",
      "  \n"
     ]
    },
    {
     "name": "stdout",
     "output_type": "stream",
     "text": [
      "Training with 5000 training samples\n"
     ]
    },
    {
     "name": "stderr",
     "output_type": "stream",
     "text": [
      "C:\\Users\\fc.pena\\Anaconda3\\lib\\site-packages\\sklearn\\model_selection\\_split.py:2026: FutureWarning: From version 0.21, test_size will always complement train_size unless both are specified.\n",
      "  FutureWarning)\n",
      "C:\\Users\\fc.pena\\Anaconda3\\lib\\site-packages\\ipykernel_launcher.py:14: FutureWarning: Method .as_matrix will be removed in a future version. Use .values instead.\n",
      "  \n"
     ]
    }
   ],
   "source": [
    "sklearn_model = LogisticRegression( random_state = 1, fit_intercept = False )\n",
    "custom_model = CustomLogisticRegression()\n",
    "\n",
    "train_instances = [ 100, 500, 1000, 5000 ]\n",
    "\n",
    "sklearn_precisions_train = []\n",
    "sklearn_precisions_test = []\n",
    "sklearn_recalls_train = []\n",
    "sklearn_recalls_test = []\n",
    "\n",
    "custom_precisions_train = []\n",
    "custom_precisions_test = []\n",
    "custom_recalls_train = []\n",
    "custom_recalls_test = []\n",
    "\n",
    "for step in train_instances:\n",
    "    \n",
    "    print( 'Training with ' + str( step ) + ' training samples'  )\n",
    "    \n",
    "    # Creating training dataset\n",
    "    htru_pos_train_step_df, _ = train_test_split( htru_pos_train_df, train_size = int( step * .1 ), random_state = 1 )\n",
    "    htru_neg_train_step_df, _ = train_test_split( htru_neg_train_df, train_size = int( step * .9 ), random_state = 1 )\n",
    "    htru_train_step_df = pd.concat( [ htru_pos_train_step_df, htru_neg_train_step_df ] )\n",
    "    \n",
    "    # Training sklearn LogReg model\n",
    "    sk_precision_train, sk_precision_test, sk_recall_train, sk_recall_test = model_iteration( sklearn_model, htru_train_step_df, htru_test_df, features, 'Class' )\n",
    "    sklearn_precisions_train.append( sk_precision_train )\n",
    "    sklearn_precisions_test.append( sk_precision_test )\n",
    "    sklearn_recalls_train.append( sk_recall_train )\n",
    "    sklearn_recalls_test.append( sk_recall_test )\n",
    "    \n",
    "    # Training custom model\n",
    "    cus_precision_train, cus_precision_test, cus_recall_train, cus_recall_test = model_iteration( custom_model, htru_train_step_df, htru_test_df, features, 'Class' )\n",
    "    custom_precisions_train.append( cus_precision_train )\n",
    "    custom_precisions_test.append( cus_precision_test )\n",
    "    custom_recalls_train.append( cus_recall_train )\n",
    "    custom_recalls_test.append( cus_recall_test )"
   ]
  },
  {
   "cell_type": "code",
   "execution_count": 44,
   "metadata": {},
   "outputs": [
    {
     "data": {
      "text/plain": [
       "Text(0.5,1,'Custom')"
      ]
     },
     "execution_count": 44,
     "metadata": {},
     "output_type": "execute_result"
    },
    {
     "data": {
      "image/png": "[encoded data removed]",
      "text/plain": [
       "<Figure size 1800x576 with 2 Axes>"
      ]
     },
     "metadata": {},
     "output_type": "display_data"
    }
   ],
   "source": [
    "f, (ax1, ax2) = plt.subplots(1, 2, sharey = True, figsize = ( 25, 8 ) )\n",
    "\n",
    "ax1.plot( train_instances, sklearn_precisions_train, '--g', label = 'Precision train' )\n",
    "ax1.plot( train_instances, sklearn_precisions_test, '-g', label = 'Precision test' )\n",
    "ax1.plot( train_instances, sklearn_recalls_train, '--b', label = 'Recall train' )\n",
    "ax1.plot( train_instances, sklearn_recalls_test, '-b', label = 'Recall test' )\n",
    "ax1.legend()\n",
    "ax1.set_title( 'Scikit-Learn' )\n",
    "\n",
    "ax2.plot( train_instances, custom_precisions_train, '--g', label = 'Precision train' )\n",
    "ax2.plot( train_instances, custom_precisions_test, '-g', label = 'Precision test' )\n",
    "ax2.plot( train_instances, custom_recalls_train, '--b', label = 'Recall train' )\n",
    "ax2.plot( train_instances, custom_recalls_test, '-b', label = 'Recall test' )\n",
    "ax2.legend()\n",
    "ax2.set_title( 'Custom' )"
   ]
  },
  {
   "cell_type": "code",
   "execution_count": null,
   "metadata": {},
   "outputs": [],
   "source": []
  },
  {
   "cell_type": "code",
   "execution_count": null,
   "metadata": {},
   "outputs": [],
   "source": []
  },
  {
   "cell_type": "code",
   "execution_count": null,
   "metadata": {},
   "outputs": [],
   "source": []
  },
  {
   "cell_type": "code",
   "execution_count": null,
   "metadata": {},
   "outputs": [],
   "source": []
  },
  {
   "cell_type": "code",
   "execution_count": null,
   "metadata": {},
   "outputs": [],
   "source": []
  },
  {
   "cell_type": "code",
   "execution_count": null,
   "metadata": {},
   "outputs": [],
   "source": []
  },
  {
   "cell_type": "code",
   "execution_count": null,
   "metadata": {},
   "outputs": [],
   "source": []
  },
  {
   "cell_type": "code",
   "execution_count": null,
   "metadata": {},
   "outputs": [],
   "source": [
    "4/0.02*np.log(4/0.05)"
   ]
  },
  {
   "cell_type": "code",
   "execution_count": null,
   "metadata": {},
   "outputs": [],
   "source": []
  }
 ],
 "metadata": {
  "kernelspec": {
   "display_name": "Python 3",
   "language": "python",
   "name": "python3"
  },
  "language_info": {
   "codemirror_mode": {
    "name": "ipython",
    "version": 3
   },
   "file_extension": ".py",
   "mimetype": "text/x-python",
   "name": "python",
   "nbconvert_exporter": "python",
   "pygments_lexer": "ipython3",
   "version": "3.6.5"
  }
 },
 "nbformat": 4,
 "nbformat_minor": 2
}
